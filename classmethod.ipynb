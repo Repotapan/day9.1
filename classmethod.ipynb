{
 "cells": [
  {
   "cell_type": "code",
   "execution_count": 5,
   "id": "05dc29ed-83c7-45c0-a56c-00dddfe9779f",
   "metadata": {},
   "outputs": [],
   "source": [
    "class pwskills:\n",
    "    def __init__(self,name,email):\n",
    "        self.name=name\n",
    "        self.email=email\n",
    "        \n",
    "    def student_details(self):\n",
    "        print(self.name,self.email)"
   ]
  },
  {
   "cell_type": "code",
   "execution_count": 7,
   "id": "7757f95e-2b2f-4e77-9a16-04347cc92fcc",
   "metadata": {},
   "outputs": [],
   "source": [
    "pw=pwskills(\"tapan\",\"tpati@gmail.com\")"
   ]
  },
  {
   "cell_type": "code",
   "execution_count": 8,
   "id": "6636a276-e7f7-4376-819d-55134c7ab85e",
   "metadata": {},
   "outputs": [
    {
     "data": {
      "text/plain": [
       "'tapan'"
      ]
     },
     "execution_count": 8,
     "metadata": {},
     "output_type": "execute_result"
    }
   ],
   "source": [
    "pw.name"
   ]
  },
  {
   "cell_type": "code",
   "execution_count": 9,
   "id": "1aca5c68-ce95-48f1-92c7-42dbd08d17c8",
   "metadata": {},
   "outputs": [
    {
     "data": {
      "text/plain": [
       "'tpati@gmail.com'"
      ]
     },
     "execution_count": 9,
     "metadata": {},
     "output_type": "execute_result"
    }
   ],
   "source": [
    "pw.email"
   ]
  },
  {
   "cell_type": "code",
   "execution_count": 10,
   "id": "d45b7f85-9fbe-4bc1-a61b-b9ad8a011da3",
   "metadata": {},
   "outputs": [
    {
     "name": "stdout",
     "output_type": "stream",
     "text": [
      "tapan tpati@gmail.com\n"
     ]
    }
   ],
   "source": [
    "pw.student_details()"
   ]
  },
  {
   "cell_type": "code",
   "execution_count": 5,
   "id": "9fdf5960-1b4e-49ef-9794-2a1e4842af21",
   "metadata": {},
   "outputs": [],
   "source": [
    "class pwskills1:\n",
    "    def __init__(self,name,email):\n",
    "        self.name=name\n",
    "        self.email=email\n",
    "    @classmethod  \n",
    "    def details(cls,name,email):\n",
    "            return cls(name,email)\n",
    "        \n",
    "    def student_details(self):\n",
    "        print(self.name,self.email)"
   ]
  },
  {
   "cell_type": "code",
   "execution_count": 6,
   "id": "aa9fe9b2-efc3-45c6-a54c-528742788773",
   "metadata": {},
   "outputs": [],
   "source": [
    "pw1=pwskills1.details(\"tapan\",\"tpati@gmail.com\")"
   ]
  },
  {
   "cell_type": "code",
   "execution_count": 7,
   "id": "78c42d06-0ad2-4c7e-b387-81bbe20d3674",
   "metadata": {},
   "outputs": [
    {
     "data": {
      "text/plain": [
       "'tapan'"
      ]
     },
     "execution_count": 7,
     "metadata": {},
     "output_type": "execute_result"
    }
   ],
   "source": [
    "pw1.name"
   ]
  },
  {
   "cell_type": "code",
   "execution_count": 8,
   "id": "8f4fb73d-5d23-4c81-bd1a-6db165e7e289",
   "metadata": {},
   "outputs": [
    {
     "name": "stdout",
     "output_type": "stream",
     "text": [
      "tapan tpati@gmail.com\n"
     ]
    }
   ],
   "source": [
    "pw1.student_details()"
   ]
  },
  {
   "cell_type": "code",
   "execution_count": 25,
   "id": "9baf2439-d2e9-41d6-8e9b-cac1c71c15b8",
   "metadata": {},
   "outputs": [],
   "source": [
    "class pwskills3:\n",
    "    mobile_no=98763868727\n",
    "    def __init__(self,name,email):\n",
    "        self.name=name\n",
    "        self.email=email\n",
    "    @classmethod  \n",
    "    def details(cls,name,email):\n",
    "            return cls(name,email)\n",
    "    @classmethod\n",
    "    def change_number(cls,mobile):\n",
    "        pwskills3.mobile_no = mobile\n",
    "        \n",
    "    def student_details(self):\n",
    "        print(self.name,self.email,pwskills3.mobile_no)"
   ]
  },
  {
   "cell_type": "code",
   "execution_count": 27,
   "id": "55fc51a1-acdc-440b-a996-10fe58a5d699",
   "metadata": {},
   "outputs": [],
   "source": [
    "pw_obj=pwskills3(\"tapu\",\"tapu@gmail.com\")"
   ]
  },
  {
   "cell_type": "code",
   "execution_count": 28,
   "id": "563ecad0-8334-44c8-bd17-5fcd1882ef37",
   "metadata": {},
   "outputs": [
    {
     "name": "stdout",
     "output_type": "stream",
     "text": [
      "tapu tapu@gmail.com 98763868727\n"
     ]
    }
   ],
   "source": [
    "pw_obj.student_details()"
   ]
  },
  {
   "cell_type": "code",
   "execution_count": 20,
   "id": "8771190a-5bbf-4fdb-be2d-1aaf932822c6",
   "metadata": {},
   "outputs": [],
   "source": [
    "pw4=pwskills3.details(\"tapan\",\"pati@gmail.com\")"
   ]
  },
  {
   "cell_type": "code",
   "execution_count": 29,
   "id": "1e0aa611-c6d2-4e7f-a1a2-554fcd6a6842",
   "metadata": {},
   "outputs": [],
   "source": [
    "pw=pwskills3.details(\"rohan\",\"rohan@gmsil.com\")"
   ]
  },
  {
   "cell_type": "code",
   "execution_count": 30,
   "id": "8de9711d-a886-496f-a81d-2f9c835c3478",
   "metadata": {},
   "outputs": [
    {
     "name": "stdout",
     "output_type": "stream",
     "text": [
      "rohan rohan@gmsil.com 98763868727\n"
     ]
    }
   ],
   "source": [
    "pw.student_details()"
   ]
  },
  {
   "cell_type": "code",
   "execution_count": 21,
   "id": "1c22d96e-0182-4182-88ec-4e2badd7b945",
   "metadata": {},
   "outputs": [
    {
     "data": {
      "text/plain": [
       "'tapan'"
      ]
     },
     "execution_count": 21,
     "metadata": {},
     "output_type": "execute_result"
    }
   ],
   "source": [
    "pw4.name"
   ]
  },
  {
   "cell_type": "code",
   "execution_count": 23,
   "id": "85d11618-7c78-47d9-8f59-c7de2a890754",
   "metadata": {},
   "outputs": [],
   "source": [
    "pwskills3.change_number(9847438647)"
   ]
  },
  {
   "cell_type": "code",
   "execution_count": 24,
   "id": "3b2094d0-f903-4dd2-b57c-049fa7302d0f",
   "metadata": {},
   "outputs": [
    {
     "data": {
      "text/plain": [
       "9847438647"
      ]
     },
     "execution_count": 24,
     "metadata": {},
     "output_type": "execute_result"
    }
   ],
   "source": [
    "pwskills3.mobile_no"
   ]
  },
  {
   "cell_type": "code",
   "execution_count": 31,
   "id": "f84a3d80-fa64-4760-ae73-80aaa2f8ec0b",
   "metadata": {},
   "outputs": [],
   "source": [
    "def course_details(cls,course_name):\n",
    "    print(\"course name is \",course_name)"
   ]
  },
  {
   "cell_type": "code",
   "execution_count": 32,
   "id": "420ee3c0-fd85-4436-8720-9de85de966e3",
   "metadata": {},
   "outputs": [],
   "source": [
    "pwskills3.course_details= classmethod(course_details)"
   ]
  },
  {
   "cell_type": "code",
   "execution_count": 33,
   "id": "d2b5381d-5866-4e98-b2c6-ca0c8442b375",
   "metadata": {},
   "outputs": [
    {
     "name": "stdout",
     "output_type": "stream",
     "text": [
      "course name is  data science master\n"
     ]
    }
   ],
   "source": [
    "pwskills3.course_details(\"data science master\")"
   ]
  },
  {
   "cell_type": "code",
   "execution_count": 34,
   "id": "26d0b54c-8acd-4e33-bbdb-c1bd6b90e40e",
   "metadata": {},
   "outputs": [],
   "source": [
    "def mentor(cls,mentor_name):\n",
    "    print(\"mentor name is :\",mentor_name)"
   ]
  },
  {
   "cell_type": "code",
   "execution_count": 35,
   "id": "074f7c80-10a5-447d-b71e-f4729b0a1697",
   "metadata": {},
   "outputs": [],
   "source": [
    "pwskills3.mentor=classmethod(mentor)"
   ]
  },
  {
   "cell_type": "code",
   "execution_count": 36,
   "id": "ae854d56-cdd1-4515-b003-8a8a2e31c4e7",
   "metadata": {},
   "outputs": [
    {
     "name": "stdout",
     "output_type": "stream",
     "text": [
      "mentor name is : rudra\n"
     ]
    }
   ],
   "source": [
    "pwskills3.mentor(\"rudra\")"
   ]
  },
  {
   "cell_type": "code",
   "execution_count": 37,
   "id": "f8330b50-6fa7-4520-8d81-8fa50c677eb6",
   "metadata": {},
   "outputs": [],
   "source": [
    "class pwskills4:\n",
    "    mobile_no=98763868727\n",
    "    def __init__(self,name,email):\n",
    "        self.name=name\n",
    "        self.email=email\n",
    "    @classmethod  \n",
    "    def details(cls,name,email):\n",
    "            return cls(name,email)\n",
    "    @classmethod\n",
    "    def change_number(cls,mobile):\n",
    "        pwskills3.mobile_no = mobile\n",
    "        \n",
    "    def student_details(self):\n",
    "        print(self.name,self.email,pwskills3.mobile_no)"
   ]
  },
  {
   "cell_type": "code",
   "execution_count": 38,
   "id": "440bf4ad-a209-4fc8-82f6-af0693b53258",
   "metadata": {},
   "outputs": [],
   "source": [
    "del pwskills4.change_number"
   ]
  },
  {
   "cell_type": "code",
   "execution_count": 40,
   "id": "6eb4e8d0-3d7d-4688-987c-3f9c672bded7",
   "metadata": {},
   "outputs": [],
   "source": [
    "delattr(pwskills4,\"details\")"
   ]
  },
  {
   "cell_type": "code",
   "execution_count": 42,
   "id": "d3ea7623-1889-41e4-98a8-b1bd1d037efd",
   "metadata": {},
   "outputs": [],
   "source": [
    "delattr(pwskills4,\"student_details\")"
   ]
  },
  {
   "cell_type": "code",
   "execution_count": 44,
   "id": "0b756004-1438-4178-abcb-bee9cbd38cc8",
   "metadata": {},
   "outputs": [],
   "source": [
    "delattr(pwskills4,\"mobile_no\")"
   ]
  },
  {
   "cell_type": "code",
   "execution_count": null,
   "id": "e089782b-bb97-4a72-bf63-907549be0734",
   "metadata": {},
   "outputs": [],
   "source": []
  }
 ],
 "metadata": {
  "kernelspec": {
   "display_name": "Python 3 (ipykernel)",
   "language": "python",
   "name": "python3"
  },
  "language_info": {
   "codemirror_mode": {
    "name": "ipython",
    "version": 3
   },
   "file_extension": ".py",
   "mimetype": "text/x-python",
   "name": "python",
   "nbconvert_exporter": "python",
   "pygments_lexer": "ipython3",
   "version": "3.10.8"
  }
 },
 "nbformat": 4,
 "nbformat_minor": 5
}
